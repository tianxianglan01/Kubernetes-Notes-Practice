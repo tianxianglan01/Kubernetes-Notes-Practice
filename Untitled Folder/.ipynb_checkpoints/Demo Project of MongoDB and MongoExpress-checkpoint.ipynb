{
 "cells": [
  {
   "cell_type": "markdown",
   "id": "ba949c07",
   "metadata": {},
   "source": [
    "### Complete Application Setup with K8s Components\n",
    "\n",
    "Overview:\n",
    "We're going to deploy 2 applications, MongoDB and MongoExpress. These 2 are used because they demonstrate a simple setup of a web app and its database and we can apply this to any similar setup we have.\n",
    "\n",
    "1) we will create a mongodb pod and in order to talk to this pod we need a service. We will be creating an internal Service that no external requests are allowed to the pod, only components inside the same cluster can talk to it. \n",
    "\n",
    "2) then we wil create a Mongo-Express deployment. We'll need the database URL of MongoDB so that MongoExpress can connect to it. The second one is the credentials (db_username and db_password) for authentication. We can pass this information to MongoExpress deployment is through its deployment configuration file (Deployment.yaml) through environmental variables because that's how the applications are configured. So we will create a ConfigMap that contains a database url and we'll create a *Secret* that contains the credentails (db_username and db_password). We'll reference both inside of the deployment file.\n",
    "\n",
    "3) Once we have this set up, we'll need Mongo Express to be accessible through the browser. In order to do that, we'll create an external service that wil allow external requests to talk to the pod so the url will be the \n",
    "\n",
    "URL:\n",
    "- IP Address of Node\n",
    "- Port of external Service "
   ]
  },
  {
   "cell_type": "markdown",
   "id": "ffc4d47c",
   "metadata": {},
   "source": [
    "#### Browser Request Flow through K8s Components\n",
    "\n",
    "- the request comes from the browser and it goes to the external service of Mongo Express\n",
    "\n",
    "- which will then forward it to the Mongo Expreess Pod. \n",
    "\n",
    "- The pod will then connect to the internal service of MongoDB (ConfigMap DB Url) \n",
    "\n",
    "- and it will forward to the MongoDB pod where it will authenticate the request using the credentials (Secret DB User, DB Pwd) so now let's create this entire setup with K8s config files\n",
    "\n",
    "#### BrainStorming Session for TwitterAnalysisV2\n",
    "\n",
    "- we have three apps: mysql database, dash plotly app, a pyspark data wrangling app "
   ]
  },
  {
   "cell_type": "markdown",
   "id": "2e976c32",
   "metadata": {},
   "source": [
    "#### Setup\n",
    "\n",
    "- minikube cluster is already running\n",
    "\n",
    "- kubectl get all (gets all components inside the cluster)\n",
    "\n",
    "Looking at Nana's screen, the only component inside is the default K8s service so my cluster is empty and I'm starting from scratch.\n",
    "\n",
    "- We're oging to create a MongoDB deployment and we'll create it in a edicator, and pastes a deployment file in vscode. \n",
    "\n",
    "- it is wihtin our spec > template that we have our definition or blueprint for pods this deployment will create.\n",
    "\n",
    "- in the example she only has 1 replica\n",
    "\n",
    "- the container will be called mongodb\n",
    "\n",
    "spec > template > spec > containers > name: mongodb, image: mongo\n",
    "\n",
    "- where the image configuration for mongo is on dockerhub. We go to dockerhub and look for how to use that container: what ports it'll use, which external config it'll tkae. \n",
    "\n",
    "The default port of MongoDB port is 27017 so we'll use it and we will use environmental variables\n",
    "\n",
    "- MONGO_INITDB_ROOT_USERNAME, MONGO_INITDB_ROOT_PASSWORD \n",
    "\n",
    "Remember we don't want ot save username or password in config file so we'll now create a *Secret* in K8s and not in the Config file \n",
    "\n",
    "- save as mongo.yaml (to get syntax highlights)"
   ]
  },
  {
   "cell_type": "code",
   "execution_count": 1,
   "id": "54191b61",
   "metadata": {},
   "outputs": [
    {
     "data": {
      "text/plain": [
       "'\\napiVersion: v1\\nkind: Secret\\nmetadata:\\n    name: mongodb-secret\\ntype: Opaque\\ndata:\\n    username:\\n    password:\\n    \\n'"
      ]
     },
     "execution_count": 1,
     "metadata": {},
     "output_type": "execute_result"
    }
   ],
   "source": [
    "# Secret Configuration file\n",
    "\n",
    "'''\n",
    "apiVersion: v1\n",
    "kind: Secret\n",
    "metadata:\n",
    "    name: mongodb-secret\n",
    "type: Opaque\n",
    "data:\n",
    "    mongo-root-username: dXNlcm5hbWU=\n",
    "    mongo-root-password: cGFzc3dvcmQ=\n",
    "    \n",
    "'''"
   ]
  },
  {
   "cell_type": "markdown",
   "id": "3a24c372",
   "metadata": {},
   "source": [
    "#### Secret Configuration File\n",
    "\n",
    "- so first we define the kind which is 'Secret'  \n",
    "\n",
    "- then metadata (the name)\n",
    "\n",
    "- type: Opaue (which is the default Secret type)\n",
    "\n",
    "Other types include TLS certificate, but mostly you're gonna use default secret\n",
    "\n",
    "- data (key value pairs of mongo-root-username and mongo-root-password)\n",
    "\n",
    "The values for the Secret are not plain text, the value must be base64 encoded. The way to do this is to \n",
    "\n",
    "1) go to your terminal\n",
    "\n",
    "echo -n 'username' | base64 (for mac)|\n",
    "### Note\n",
    "\n",
    "I installed a base64 converted for windows on my computer. The command prompt is \n",
    "\n",
    "- echo | set /p=username| base64\n",
    "\n",
    "WHERE there is NO space between password (username) and '|' AND no space between /p and 'username'. You MUST use 'set'. You might want to check with a base54 converter tool or website OR use the linux shell \n",
    "\n",
    "and then we post it into the secret's username nad password configs.  "
   ]
  },
  {
   "cell_type": "markdown",
   "id": "f4faa8bc",
   "metadata": {},
   "source": [
    "So far we've only written config files and haven't created anything in the cluster. This is only prep work. \n",
    "\n",
    "We MUST create the Secret before the deployment if we're gonna reference the secret values. THerefore the order of creation matters because if I'm creating a deployment that references a Secret that doesn't exist yet, we'll get an error. \n",
    "\n",
    "Once we have our first deployment, let's create our secret from a config file. WE\n",
    "\n",
    "- go into the folder with all the configuration files (I do not have her files, they are on git.)\n",
    "\n",
    "cd k8s-configuration/\n",
    "\n",
    "- kubectl apply -f mongo-secret.yaml\n",
    "\n",
    "- kubectl get secret to see th ecreation of our secret \n",
    "\n",
    "Now that we have our secrets, we can reference our Secrets inside of our deployment configuration file"
   ]
  },
  {
   "cell_type": "code",
   "execution_count": 2,
   "id": "cff191ed",
   "metadata": {},
   "outputs": [
    {
     "data": {
      "text/plain": [
       "'\\nenv: \\n- name: MONGO_INITDB_ROOT_USERNAME\\n    valueFrom:\\n        secretKeyRef:\\n            name: mongodb-secret \\n            key: mongo-root-username\\n- name: MONGO_INITDB_ROOT_PASSWORD\\n    valueFrom:\\n        secretKeyRef:\\n            name: mongodb-secret\\n            key: mongo-root-password\\n            \\n\\n\\n'"
      ]
     },
     "execution_count": 2,
     "metadata": {},
     "output_type": "execute_result"
    }
   ],
   "source": [
    "# inside our mongo.yaml file\n",
    "\n",
    "# template > spec > containers> env\n",
    "'''\n",
    "env: \n",
    "- name: MONGO_INITDB_ROOT_USERNAME\n",
    "    valueFrom:\n",
    "        secretKeyRef:\n",
    "            name: mongodb-secret \n",
    "            key: mongo-root-username\n",
    "- name: MONGO_INITDB_ROOT_PASSWORD\n",
    "    valueFrom:\n",
    "        secretKeyRef:\n",
    "            name: mongodb-secret\n",
    "            key: mongo-root-password\n",
    "            \n",
    "\n",
    "\n",
    "'''\n",
    "# where the name is the metadata name in mongo-secret.yaml\n",
    "# mongo-root-username, the key, is in the data key value pair in mongo-secret.yaml\n",
    "\n",
    "# remeber yaml has strict indentation"
   ]
  },
  {
   "cell_type": "markdown",
   "id": "961a7590",
   "metadata": {},
   "source": [
    "Our deployment file is now ready so let's apply it.\n",
    "\n",
    "- kubectl apply -f mongo.yaml\n",
    "\n",
    "- kubectl get all (should see the deployment and the replicaset)\n",
    "\n",
    "- kubectl get pod (check how pod is doing)\n",
    "\n",
    "- kubectl get pod --watch (to see live status of pod)\n",
    "\n",
    "If it takes long and you want to see whether there's a problem you can do \n",
    "\n",
    "- kubectl describe pod 'pod-name' (to see if there's nayting wrong)\n",
    "\n",
    "- kubectl get pod (again)"
   ]
  },
  {
   "cell_type": "markdown",
   "id": "dbf2eb71",
   "metadata": {},
   "source": [
    "#### Create a MongoDB Internal Service"
   ]
  },
  {
   "cell_type": "code",
   "execution_count": null,
   "id": "52599832",
   "metadata": {},
   "outputs": [],
   "source": []
  }
 ],
 "metadata": {
  "kernelspec": {
   "display_name": "Python 3 (ipykernel)",
   "language": "python",
   "name": "python3"
  },
  "language_info": {
   "codemirror_mode": {
    "name": "ipython",
    "version": 3
   },
   "file_extension": ".py",
   "mimetype": "text/x-python",
   "name": "python",
   "nbconvert_exporter": "python",
   "pygments_lexer": "ipython3",
   "version": "3.9.6"
  }
 },
 "nbformat": 4,
 "nbformat_minor": 5
}
