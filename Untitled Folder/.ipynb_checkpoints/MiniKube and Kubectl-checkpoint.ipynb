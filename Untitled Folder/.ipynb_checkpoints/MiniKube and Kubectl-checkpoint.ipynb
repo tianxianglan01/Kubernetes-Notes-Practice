{
 "cells": [
  {
   "cell_type": "markdown",
   "id": "9d9e4713",
   "metadata": {},
   "source": [
    "#### Overview\n",
    "\n",
    "- What is minikube?\n",
    "- what is kubectl?\n",
    "- how to setup a minikube cluster?\n",
    "\n",
    "What is minikube?\n",
    "- Usually in K8s, when you're setting up a production cluster, it will look something similar to:\n",
    "- multiple masters (at least 2 in production setting)\n",
    "- multiple worker nodes \n",
    "\n",
    "where master nodes and worker nodes have their own responsibilities\n",
    "\n",
    "each node is a physical or virtual machine\n",
    "\n",
    "If you want to test on your local enviornment or try something out quickly like deploying a new app or components, setting the cluster example above would be very difficult if not impossible if you don't have enough resources like memroy or cpu. \n",
    "\n",
    "#### FOr this case, we have minikube. \n",
    "\n",
    "Minikube is:\n",
    "one node processor where the master and node processes run on one machine node. This node will have a docker container runtime preinstalled which will allow you to run pods with containers with nodes. \n",
    "\n",
    "It runs on laptop through a virtual box or other hypervisor.\n",
    "\n",
    "Miniube creates a virtual box on your laptop, node runs in that virtual box\n",
    "\n",
    "To summarize, minikube is a 1 node k8s cluster that runs on a virtual box on your laptop that is sued for testing purposes k8s on your local setup\n",
    "\n",
    "Once your cluster or minicluster is set up on your local machine, you need some way to interact with that cluster to create ocmponents, configs, etc. This is where kubectl comes in.\n",
    "\n",
    "#### Kubectl\n",
    "What is it?: A way to interact with a minikube cluster which is a command line tool for K8s cluster.\n",
    "\n",
    "Remember minikube runs masters and slave processes. ONe of the master processes is called *API Server* which enables interaction with cluster.\n",
    "\n",
    "If you want to do anything: configure or create any component, you first have to talk to the API server. The way to talk to the K8s server is through clients: like a dashboard, K8s API, or Kubectl which is the most powerful of these three options. \n",
    "\n",
    "Once Kubectl submits commands to api server to create componenents/delete componenets/etc, the *worker processes* on minikube node will make it happen. They will be executing the ocmmands ot create/destory pods, create services, etc. \n",
    "\n",
    "Note: kubectl is not only for minikube cluster, it's also on cloud cluster or any type of K8s cluster setup. "
   ]
  },
  {
   "cell_type": "markdown",
   "id": "00282b7d",
   "metadata": {},
   "source": [
    "#### Installation and Create minikube Cluster\n",
    "\n",
    "Start your cluster:\n",
    "\n",
    "minikube start\n",
    "\n",
    "minikube status: get status\n",
    "\n",
    "kubectl get nodes: list nodes and roles\n",
    "\n",
    "Note: *control plane* is the same as a master node \n",
    "\n",
    "Kubectl CLI: for confiuring the minikube cluster\n",
    "\n",
    "Minikube CLI: for startup/deleting the cluster"
   ]
  },
  {
   "cell_type": "code",
   "execution_count": null,
   "id": "3b9404dc",
   "metadata": {},
   "outputs": [],
   "source": []
  }
 ],
 "metadata": {
  "kernelspec": {
   "display_name": "Python 3 (ipykernel)",
   "language": "python",
   "name": "python3"
  },
  "language_info": {
   "codemirror_mode": {
    "name": "ipython",
    "version": 3
   },
   "file_extension": ".py",
   "mimetype": "text/x-python",
   "name": "python",
   "nbconvert_exporter": "python",
   "pygments_lexer": "ipython3",
   "version": "3.9.6"
  }
 },
 "nbformat": 4,
 "nbformat_minor": 5
}
