{
 "cells": [
  {
   "cell_type": "markdown",
   "id": "e56d1f86",
   "metadata": {},
   "source": [
    "### So What is it?\n",
    "\n",
    "Official Definition\n",
    "\n",
    "PRoblem-SOlution case Study\n",
    "\n",
    "Why did K8S rise so fast and what problems does it solve?\n",
    "\n",
    "#### Official Definition\n",
    "\n",
    "Kubernetes is an Open source container orchestration tool developed by Google. It manages containers, like docker containers or some other technology. ERgo this means it manages applications taht are made up of hundreds of hundreds or thousands of containers and helps maange them in different deployment environments: physical machines, virtual machines, or cloud environments or hybrid deployment environments. \n",
    "\n",
    "#### What problems does Kubernetes solve?\n",
    "\n",
    "The rise of microservices increased usage of container technologies because containers offer perfect host for small independent applications like microservices. THe rise of containers in the microservcie tech resulted in apps that are now comprised of hundreds to thousands of containers. To manage those loads of containers across multiple environments using scripts and self made tools can be really complex and sometimes impossible. This scenario caused the need for container orchestration technologies. \n",
    "\n",
    "#### What are the tasks of an orchestration tool? \n",
    "\n",
    "#### What features do orchestration tools offer?\n",
    "\n",
    "High availability otherwise means no time: always accesible by users.\n",
    "\n",
    "Scalibiilty which means apps has high performance. Loads fast and users have high response rate.\n",
    "\n",
    "Disaster recovery. If datais corrupted or data is lost, there is backup and restoration of data. The containerized applicaiton can run from the latest date after the recovery."
   ]
  },
  {
   "cell_type": "code",
   "execution_count": null,
   "id": "04fc03cb",
   "metadata": {},
   "outputs": [],
   "source": []
  }
 ],
 "metadata": {
  "kernelspec": {
   "display_name": "Python 3 (ipykernel)",
   "language": "python",
   "name": "python3"
  },
  "language_info": {
   "codemirror_mode": {
    "name": "ipython",
    "version": 3
   },
   "file_extension": ".py",
   "mimetype": "text/x-python",
   "name": "python",
   "nbconvert_exporter": "python",
   "pygments_lexer": "ipython3",
   "version": "3.9.6"
  }
 },
 "nbformat": 4,
 "nbformat_minor": 5
}
